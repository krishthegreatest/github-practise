{
  "nbformat": 4,
  "nbformat_minor": 0,
  "metadata": {
    "colab": {
      "name": "Python More Basics",
      "version": "0.3.2",
      "provenance": [],
      "collapsed_sections": [],
      "include_colab_link": true
    },
    "kernelspec": {
      "name": "python3",
      "display_name": "Python 3"
    }
  },
  "cells": [
    {
      "cell_type": "markdown",
      "metadata": {
        "id": "view-in-github",
        "colab_type": "text"
      },
      "source": [
        "<a href=\"https://colab.research.google.com/github/krishthegreatest/github-practise/blob/master/Python_More_Basics.ipynb\" target=\"_parent\"><img src=\"https://colab.research.google.com/assets/colab-badge.svg\" alt=\"Open In Colab\"/></a>"
      ]
    },
    {
      "metadata": {
        "id": "-Dwdz7KisWMX",
        "colab_type": "code",
        "colab": {}
      },
      "cell_type": "code",
      "source": [
        ""
      ],
      "execution_count": 0,
      "outputs": []
    },
    {
      "metadata": {
        "id": "zicnKWxkskL5",
        "colab_type": "code",
        "colab": {
          "base_uri": "https://localhost:8080/",
          "height": 68
        },
        "outputId": "97b17509-b963-470b-ad80-2a847cb379b8"
      },
      "cell_type": "code",
      "source": [
        "# Install the PyDrive wrapper & import libraries.\n",
        "# This only needs to be done once in a notebook.\n",
        "!pip install -U -q PyDrive\n",
        "from pydrive.auth import GoogleAuth\n",
        "from pydrive.drive import GoogleDrive\n",
        "from google.colab import auth\n",
        "from oauth2client.client import GoogleCredentials\n",
        "\n",
        "# Authenticate and create the PyDrive client.\n",
        "# This only needs to be done once in a notebook.\n",
        "auth.authenticate_user()\n",
        "gauth = GoogleAuth()\n",
        "gauth.credentials = GoogleCredentials.get_application_default()\n",
        "drive = GoogleDrive(gauth)\n",
        "\n",
        "# Create & upload a text file.\n",
        "uploaded = drive.CreateFile({'title': 'Sample file.txt'})\n",
        "uploaded.SetContentString('Sample upload file content')\n",
        "uploaded.Upload()\n",
        "print('Uploaded file with ID {}'.format(uploaded.get('id')))"
      ],
      "execution_count": 1,
      "outputs": [
        {
          "output_type": "stream",
          "text": [
            "\u001b[K    100% |████████████████████████████████| 993kB 733kB/s \n",
            "\u001b[?25h  Building wheel for PyDrive (setup.py) ... \u001b[?25ldone\n",
            "\u001b[?25hUploaded file with ID 1f3tbj2j8swlZtPmfBRfa2y5nN7dSGUGY\n"
          ],
          "name": "stdout"
        }
      ]
    },
    {
      "metadata": {
        "id": "u8MWUgY2s3JC",
        "colab_type": "code",
        "colab": {
          "base_uri": "https://localhost:8080/",
          "height": 34
        },
        "outputId": "0cde6d5c-05a7-467a-85f8-e70c3435ab12"
      },
      "cell_type": "code",
      "source": [
        "uploaded = drive.CreateFile({'title': 'file2.txt'})\n",
        "uploaded.SetContentString('again test file content')\n",
        "uploaded.Upload()\n",
        "print('Uploaded file with ID {}'.format(uploaded.get('id')))"
      ],
      "execution_count": 2,
      "outputs": [
        {
          "output_type": "stream",
          "text": [
            "Uploaded file with ID 1Locnc1n5wi6X1kusNIYbSoddnWlfwmeh\n"
          ],
          "name": "stdout"
        }
      ]
    },
    {
      "metadata": {
        "id": "_qNYR_cQtQ1L",
        "colab_type": "code",
        "colab": {
          "base_uri": "https://localhost:8080/",
          "height": 34
        },
        "outputId": "bebf94ab-5e6f-479e-cb00-7371572cac76"
      },
      "cell_type": "code",
      "source": [
        "# Authenticate and create the PyDrive client.\n",
        "# This only needs to be done once per notebook.\n",
        "auth.authenticate_user()\n",
        "gauth = GoogleAuth()\n",
        "gauth.credentials = GoogleCredentials.get_application_default()\n",
        "drive = GoogleDrive(gauth)\n",
        "\n",
        "# List .txt files in the root.\n",
        "#\n",
        "# Search query reference:\n",
        "# https://developers.google.com/drive/v2/web/search-parameters\n",
        "listed = drive.ListFile({'q': \"title contains '.csv' and 'root' in parents\"}).GetList()\n",
        "for file in listed:\n",
        "  print('title {}, id {}'.format(file['title'], file['id']))"
      ],
      "execution_count": 14,
      "outputs": [
        {
          "output_type": "stream",
          "text": [
            "title mobile_cleaned-1549119762886.csv, id 1zbvRdoaTwo23hc92iHuaG74lKVfUxv11\n"
          ],
          "name": "stdout"
        }
      ]
    },
    {
      "metadata": {
        "id": "8KQtgeWste6A",
        "colab_type": "code",
        "colab": {}
      },
      "cell_type": "code",
      "source": [
        "# Install the PyDrive wrapper & import libraries.\n",
        "# This only needs to be done once per notebook.\n",
        "!pip install -U -q PyDrive\n",
        "from pydrive.auth import GoogleAuth\n",
        "from pydrive.drive import GoogleDrive\n",
        "from google.colab import auth\n",
        "from oauth2client.client import GoogleCredentials\n",
        "\n",
        "# Authenticate and create the PyDrive client.\n",
        "# This only needs to be done once per notebook.\n",
        "auth.authenticate_user()\n",
        "gauth = GoogleAuth()\n",
        "gauth.credentials = GoogleCredentials.get_application_default()\n",
        "drive = GoogleDrive(gauth)\n",
        "\n",
        "# Download a file based on its file ID.\n",
        "#\n",
        "# A file ID looks like: laggVyWshwcyP6kEI-y_W3P8D26sz\n",
        "#file_id = 'REPLACE_WITH_YOUR_FILE_ID'  #https://drive.google.com/open?id=1zbvRdoaTwo23hc92iHuaG74lKVfUxv11\n",
        "file_id = '1zbvRdoaTwo23hc92iHuaG74lKVfUxv11'\n",
        "downloaded = drive.CreateFile({'id': file_id})\n",
        "print('Downloaded content \"{}\"'.format(downloaded.GetContentString()))"
      ],
      "execution_count": 0,
      "outputs": []
    },
    {
      "metadata": {
        "id": "-rQ1rSCuueRU",
        "colab_type": "code",
        "colab": {}
      },
      "cell_type": "code",
      "source": [
        "downloaded.GetContentFile('mobile_cleaned_local.csv')"
      ],
      "execution_count": 0,
      "outputs": []
    },
    {
      "metadata": {
        "id": "GMLIwAbRuvWn",
        "colab_type": "code",
        "colab": {
          "base_uri": "https://localhost:8080/",
          "height": 34
        },
        "outputId": "36bd82ea-d60c-434a-c770-40af60aa0589"
      },
      "cell_type": "code",
      "source": [
        "!ls"
      ],
      "execution_count": 7,
      "outputs": [
        {
          "output_type": "stream",
          "text": [
            "adc.json  mobile_cleaned.csv  mobile_cleaned_local.csv\tsample_data\n"
          ],
          "name": "stdout"
        }
      ]
    },
    {
      "metadata": {
        "id": "xLVGtvhwuw3k",
        "colab_type": "code",
        "colab": {}
      },
      "cell_type": "code",
      "source": [
        "import pandas as pd"
      ],
      "execution_count": 0,
      "outputs": []
    },
    {
      "metadata": {
        "id": "w10e3RuXu0lc",
        "colab_type": "code",
        "colab": {}
      },
      "cell_type": "code",
      "source": [
        "df=pd.read_csv('mobile_cleaned_local.csv')"
      ],
      "execution_count": 0,
      "outputs": []
    },
    {
      "metadata": {
        "id": "P3lYMAhTu_Zo",
        "colab_type": "code",
        "colab": {
          "base_uri": "https://localhost:8080/",
          "height": 253
        },
        "outputId": "96dd6a4b-bb37-426f-a1f1-62250bde8073"
      },
      "cell_type": "code",
      "source": [
        "df.head()"
      ],
      "execution_count": 11,
      "outputs": [
        {
          "output_type": "execute_result",
          "data": {
            "text/html": [
              "<div>\n",
              "<style scoped>\n",
              "    .dataframe tbody tr th:only-of-type {\n",
              "        vertical-align: middle;\n",
              "    }\n",
              "\n",
              "    .dataframe tbody tr th {\n",
              "        vertical-align: top;\n",
              "    }\n",
              "\n",
              "    .dataframe thead th {\n",
              "        text-align: right;\n",
              "    }\n",
              "</style>\n",
              "<table border=\"1\" class=\"dataframe\">\n",
              "  <thead>\n",
              "    <tr style=\"text-align: right;\">\n",
              "      <th></th>\n",
              "      <th>sim_type</th>\n",
              "      <th>aperture</th>\n",
              "      <th>gpu_rank</th>\n",
              "      <th>weight</th>\n",
              "      <th>stand_by_time</th>\n",
              "      <th>processor_frequency</th>\n",
              "      <th>thickness</th>\n",
              "      <th>flash_type</th>\n",
              "      <th>front_camera_resolution</th>\n",
              "      <th>auto_focus</th>\n",
              "      <th>...</th>\n",
              "      <th>micro_sd_slot</th>\n",
              "      <th>screen_pixel_density</th>\n",
              "      <th>water_proof_rate</th>\n",
              "      <th>phone_width</th>\n",
              "      <th>expandable_memory</th>\n",
              "      <th>version</th>\n",
              "      <th>usb_type</th>\n",
              "      <th>battery_capacity</th>\n",
              "      <th>processor_rank</th>\n",
              "      <th>is_liked</th>\n",
              "    </tr>\n",
              "  </thead>\n",
              "  <tbody>\n",
              "    <tr>\n",
              "      <th>0</th>\n",
              "      <td>0</td>\n",
              "      <td>12</td>\n",
              "      <td>55</td>\n",
              "      <td>155.0</td>\n",
              "      <td>250</td>\n",
              "      <td>1.3</td>\n",
              "      <td>10.5</td>\n",
              "      <td>5</td>\n",
              "      <td>2.00</td>\n",
              "      <td>0</td>\n",
              "      <td>...</td>\n",
              "      <td>4</td>\n",
              "      <td>2</td>\n",
              "      <td>3</td>\n",
              "      <td>67.8</td>\n",
              "      <td>64.0</td>\n",
              "      <td>5</td>\n",
              "      <td>3</td>\n",
              "      <td>2000</td>\n",
              "      <td>125</td>\n",
              "      <td>1</td>\n",
              "    </tr>\n",
              "    <tr>\n",
              "      <th>1</th>\n",
              "      <td>0</td>\n",
              "      <td>1</td>\n",
              "      <td>55</td>\n",
              "      <td>132.0</td>\n",
              "      <td>300</td>\n",
              "      <td>1.3</td>\n",
              "      <td>10.6</td>\n",
              "      <td>5</td>\n",
              "      <td>0.30</td>\n",
              "      <td>1</td>\n",
              "      <td>...</td>\n",
              "      <td>4</td>\n",
              "      <td>4</td>\n",
              "      <td>6</td>\n",
              "      <td>64.0</td>\n",
              "      <td>32.0</td>\n",
              "      <td>5</td>\n",
              "      <td>3</td>\n",
              "      <td>2000</td>\n",
              "      <td>165</td>\n",
              "      <td>1</td>\n",
              "    </tr>\n",
              "    <tr>\n",
              "      <th>2</th>\n",
              "      <td>0</td>\n",
              "      <td>9</td>\n",
              "      <td>55</td>\n",
              "      <td>142.0</td>\n",
              "      <td>329</td>\n",
              "      <td>1.5</td>\n",
              "      <td>8.5</td>\n",
              "      <td>5</td>\n",
              "      <td>2.00</td>\n",
              "      <td>3</td>\n",
              "      <td>...</td>\n",
              "      <td>4</td>\n",
              "      <td>9</td>\n",
              "      <td>6</td>\n",
              "      <td>72.0</td>\n",
              "      <td>32.0</td>\n",
              "      <td>6</td>\n",
              "      <td>3</td>\n",
              "      <td>2500</td>\n",
              "      <td>164</td>\n",
              "      <td>0</td>\n",
              "    </tr>\n",
              "    <tr>\n",
              "      <th>3</th>\n",
              "      <td>0</td>\n",
              "      <td>8</td>\n",
              "      <td>55</td>\n",
              "      <td>152.0</td>\n",
              "      <td>385</td>\n",
              "      <td>1.3</td>\n",
              "      <td>8.0</td>\n",
              "      <td>5</td>\n",
              "      <td>2.00</td>\n",
              "      <td>3</td>\n",
              "      <td>...</td>\n",
              "      <td>4</td>\n",
              "      <td>1</td>\n",
              "      <td>3</td>\n",
              "      <td>75.1</td>\n",
              "      <td>32.0</td>\n",
              "      <td>6</td>\n",
              "      <td>3</td>\n",
              "      <td>3000</td>\n",
              "      <td>165</td>\n",
              "      <td>1</td>\n",
              "    </tr>\n",
              "    <tr>\n",
              "      <th>4</th>\n",
              "      <td>1</td>\n",
              "      <td>1</td>\n",
              "      <td>55</td>\n",
              "      <td>234.0</td>\n",
              "      <td>385</td>\n",
              "      <td>1.3</td>\n",
              "      <td>7.9</td>\n",
              "      <td>5</td>\n",
              "      <td>1.92</td>\n",
              "      <td>3</td>\n",
              "      <td>...</td>\n",
              "      <td>4</td>\n",
              "      <td>1</td>\n",
              "      <td>6</td>\n",
              "      <td>91.0</td>\n",
              "      <td>32.0</td>\n",
              "      <td>6</td>\n",
              "      <td>3</td>\n",
              "      <td>3000</td>\n",
              "      <td>165</td>\n",
              "      <td>0</td>\n",
              "    </tr>\n",
              "  </tbody>\n",
              "</table>\n",
              "<p>5 rows × 40 columns</p>\n",
              "</div>"
            ],
            "text/plain": [
              "   sim_type  aperture  gpu_rank  weight  stand_by_time  processor_frequency  \\\n",
              "0         0        12        55   155.0            250                  1.3   \n",
              "1         0         1        55   132.0            300                  1.3   \n",
              "2         0         9        55   142.0            329                  1.5   \n",
              "3         0         8        55   152.0            385                  1.3   \n",
              "4         1         1        55   234.0            385                  1.3   \n",
              "\n",
              "   thickness  flash_type  front_camera_resolution  auto_focus    ...     \\\n",
              "0       10.5           5                     2.00           0    ...      \n",
              "1       10.6           5                     0.30           1    ...      \n",
              "2        8.5           5                     2.00           3    ...      \n",
              "3        8.0           5                     2.00           3    ...      \n",
              "4        7.9           5                     1.92           3    ...      \n",
              "\n",
              "   micro_sd_slot  screen_pixel_density  water_proof_rate  phone_width  \\\n",
              "0              4                     2                 3         67.8   \n",
              "1              4                     4                 6         64.0   \n",
              "2              4                     9                 6         72.0   \n",
              "3              4                     1                 3         75.1   \n",
              "4              4                     1                 6         91.0   \n",
              "\n",
              "   expandable_memory  version  usb_type  battery_capacity  processor_rank  \\\n",
              "0               64.0        5         3              2000             125   \n",
              "1               32.0        5         3              2000             165   \n",
              "2               32.0        6         3              2500             164   \n",
              "3               32.0        6         3              3000             165   \n",
              "4               32.0        6         3              3000             165   \n",
              "\n",
              "   is_liked  \n",
              "0         1  \n",
              "1         1  \n",
              "2         0  \n",
              "3         1  \n",
              "4         0  \n",
              "\n",
              "[5 rows x 40 columns]"
            ]
          },
          "metadata": {
            "tags": []
          },
          "execution_count": 11
        }
      ]
    },
    {
      "metadata": {
        "id": "DwRBFwtkvCsI",
        "colab_type": "code",
        "colab": {
          "base_uri": "https://localhost:8080/",
          "height": 253
        },
        "outputId": "97d0e415-a0e3-4b26-e323-848fe12c5a3f"
      },
      "cell_type": "code",
      "source": [
        "df.tail()"
      ],
      "execution_count": 15,
      "outputs": [
        {
          "output_type": "execute_result",
          "data": {
            "text/html": [
              "<div>\n",
              "<style scoped>\n",
              "    .dataframe tbody tr th:only-of-type {\n",
              "        vertical-align: middle;\n",
              "    }\n",
              "\n",
              "    .dataframe tbody tr th {\n",
              "        vertical-align: top;\n",
              "    }\n",
              "\n",
              "    .dataframe thead th {\n",
              "        text-align: right;\n",
              "    }\n",
              "</style>\n",
              "<table border=\"1\" class=\"dataframe\">\n",
              "  <thead>\n",
              "    <tr style=\"text-align: right;\">\n",
              "      <th></th>\n",
              "      <th>sim_type</th>\n",
              "      <th>aperture</th>\n",
              "      <th>gpu_rank</th>\n",
              "      <th>weight</th>\n",
              "      <th>stand_by_time</th>\n",
              "      <th>processor_frequency</th>\n",
              "      <th>thickness</th>\n",
              "      <th>flash_type</th>\n",
              "      <th>front_camera_resolution</th>\n",
              "      <th>auto_focus</th>\n",
              "      <th>...</th>\n",
              "      <th>micro_sd_slot</th>\n",
              "      <th>screen_pixel_density</th>\n",
              "      <th>water_proof_rate</th>\n",
              "      <th>phone_width</th>\n",
              "      <th>expandable_memory</th>\n",
              "      <th>version</th>\n",
              "      <th>usb_type</th>\n",
              "      <th>battery_capacity</th>\n",
              "      <th>processor_rank</th>\n",
              "      <th>is_liked</th>\n",
              "    </tr>\n",
              "  </thead>\n",
              "  <tbody>\n",
              "    <tr>\n",
              "      <th>104</th>\n",
              "      <td>3</td>\n",
              "      <td>10</td>\n",
              "      <td>14</td>\n",
              "      <td>192.0</td>\n",
              "      <td>540</td>\n",
              "      <td>1.8</td>\n",
              "      <td>9.4</td>\n",
              "      <td>2</td>\n",
              "      <td>2.0</td>\n",
              "      <td>2</td>\n",
              "      <td>...</td>\n",
              "      <td>4</td>\n",
              "      <td>29</td>\n",
              "      <td>6</td>\n",
              "      <td>77.2</td>\n",
              "      <td>256.0</td>\n",
              "      <td>6</td>\n",
              "      <td>3</td>\n",
              "      <td>3410</td>\n",
              "      <td>8</td>\n",
              "      <td>1</td>\n",
              "    </tr>\n",
              "    <tr>\n",
              "      <th>105</th>\n",
              "      <td>0</td>\n",
              "      <td>5</td>\n",
              "      <td>3</td>\n",
              "      <td>157.0</td>\n",
              "      <td>400</td>\n",
              "      <td>2.3</td>\n",
              "      <td>7.7</td>\n",
              "      <td>5</td>\n",
              "      <td>5.0</td>\n",
              "      <td>3</td>\n",
              "      <td>...</td>\n",
              "      <td>6</td>\n",
              "      <td>27</td>\n",
              "      <td>1</td>\n",
              "      <td>72.6</td>\n",
              "      <td>200.0</td>\n",
              "      <td>9</td>\n",
              "      <td>3</td>\n",
              "      <td>3600</td>\n",
              "      <td>101</td>\n",
              "      <td>1</td>\n",
              "    </tr>\n",
              "    <tr>\n",
              "      <th>106</th>\n",
              "      <td>3</td>\n",
              "      <td>10</td>\n",
              "      <td>6</td>\n",
              "      <td>192.0</td>\n",
              "      <td>384</td>\n",
              "      <td>1.8</td>\n",
              "      <td>7.3</td>\n",
              "      <td>2</td>\n",
              "      <td>5.0</td>\n",
              "      <td>3</td>\n",
              "      <td>...</td>\n",
              "      <td>1</td>\n",
              "      <td>16</td>\n",
              "      <td>6</td>\n",
              "      <td>77.9</td>\n",
              "      <td>0.0</td>\n",
              "      <td>14</td>\n",
              "      <td>13</td>\n",
              "      <td>2750</td>\n",
              "      <td>1</td>\n",
              "      <td>1</td>\n",
              "    </tr>\n",
              "    <tr>\n",
              "      <th>107</th>\n",
              "      <td>3</td>\n",
              "      <td>10</td>\n",
              "      <td>12</td>\n",
              "      <td>129.0</td>\n",
              "      <td>250</td>\n",
              "      <td>1.4</td>\n",
              "      <td>6.9</td>\n",
              "      <td>2</td>\n",
              "      <td>1.2</td>\n",
              "      <td>3</td>\n",
              "      <td>...</td>\n",
              "      <td>1</td>\n",
              "      <td>13</td>\n",
              "      <td>6</td>\n",
              "      <td>67.0</td>\n",
              "      <td>0.0</td>\n",
              "      <td>12</td>\n",
              "      <td>13</td>\n",
              "      <td>1810</td>\n",
              "      <td>7</td>\n",
              "      <td>1</td>\n",
              "    </tr>\n",
              "    <tr>\n",
              "      <th>108</th>\n",
              "      <td>2</td>\n",
              "      <td>8</td>\n",
              "      <td>3</td>\n",
              "      <td>158.0</td>\n",
              "      <td>400</td>\n",
              "      <td>2.2</td>\n",
              "      <td>7.4</td>\n",
              "      <td>6</td>\n",
              "      <td>8.0</td>\n",
              "      <td>3</td>\n",
              "      <td>...</td>\n",
              "      <td>5</td>\n",
              "      <td>16</td>\n",
              "      <td>6</td>\n",
              "      <td>74.7</td>\n",
              "      <td>0.0</td>\n",
              "      <td>10</td>\n",
              "      <td>12</td>\n",
              "      <td>3000</td>\n",
              "      <td>2</td>\n",
              "      <td>0</td>\n",
              "    </tr>\n",
              "  </tbody>\n",
              "</table>\n",
              "<p>5 rows × 40 columns</p>\n",
              "</div>"
            ],
            "text/plain": [
              "     sim_type  aperture  gpu_rank  weight  stand_by_time  processor_frequency  \\\n",
              "104         3        10        14   192.0            540                  1.8   \n",
              "105         0         5         3   157.0            400                  2.3   \n",
              "106         3        10         6   192.0            384                  1.8   \n",
              "107         3        10        12   129.0            250                  1.4   \n",
              "108         2         8         3   158.0            400                  2.2   \n",
              "\n",
              "     thickness  flash_type  front_camera_resolution  auto_focus    ...     \\\n",
              "104        9.4           2                      2.0           2    ...      \n",
              "105        7.7           5                      5.0           3    ...      \n",
              "106        7.3           2                      5.0           3    ...      \n",
              "107        6.9           2                      1.2           3    ...      \n",
              "108        7.4           6                      8.0           3    ...      \n",
              "\n",
              "     micro_sd_slot  screen_pixel_density  water_proof_rate  phone_width  \\\n",
              "104              4                    29                 6         77.2   \n",
              "105              6                    27                 1         72.6   \n",
              "106              1                    16                 6         77.9   \n",
              "107              1                    13                 6         67.0   \n",
              "108              5                    16                 6         74.7   \n",
              "\n",
              "     expandable_memory  version  usb_type  battery_capacity  processor_rank  \\\n",
              "104              256.0        6         3              3410               8   \n",
              "105              200.0        9         3              3600             101   \n",
              "106                0.0       14        13              2750               1   \n",
              "107                0.0       12        13              1810               7   \n",
              "108                0.0       10        12              3000               2   \n",
              "\n",
              "     is_liked  \n",
              "104         1  \n",
              "105         1  \n",
              "106         1  \n",
              "107         1  \n",
              "108         0  \n",
              "\n",
              "[5 rows x 40 columns]"
            ]
          },
          "metadata": {
            "tags": []
          },
          "execution_count": 15
        }
      ]
    },
    {
      "metadata": {
        "id": "DIxNSU3zxDhc",
        "colab_type": "code",
        "colab": {
          "base_uri": "https://localhost:8080/",
          "height": 34
        },
        "outputId": "51ed3844-148d-475b-cb15-138f7db4efee"
      },
      "cell_type": "code",
      "source": [
        "type(df)"
      ],
      "execution_count": 16,
      "outputs": [
        {
          "output_type": "execute_result",
          "data": {
            "text/plain": [
              "pandas.core.frame.DataFrame"
            ]
          },
          "metadata": {
            "tags": []
          },
          "execution_count": 16
        }
      ]
    },
    {
      "metadata": {
        "id": "3kEnvZPVxMNx",
        "colab_type": "code",
        "colab": {
          "base_uri": "https://localhost:8080/",
          "height": 8415
        },
        "outputId": "cf254b2f-625a-4c7b-aebe-5d68dc17c7d3"
      },
      "cell_type": "code",
      "source": [
        "dir(df)"
      ],
      "execution_count": 17,
      "outputs": [
        {
          "output_type": "execute_result",
          "data": {
            "text/plain": [
              "['FM',\n",
              " 'T',\n",
              " '_AXIS_ALIASES',\n",
              " '_AXIS_IALIASES',\n",
              " '_AXIS_LEN',\n",
              " '_AXIS_NAMES',\n",
              " '_AXIS_NUMBERS',\n",
              " '_AXIS_ORDERS',\n",
              " '_AXIS_REVERSED',\n",
              " '_AXIS_SLICEMAP',\n",
              " '__abs__',\n",
              " '__add__',\n",
              " '__and__',\n",
              " '__array__',\n",
              " '__array_wrap__',\n",
              " '__bool__',\n",
              " '__bytes__',\n",
              " '__class__',\n",
              " '__contains__',\n",
              " '__copy__',\n",
              " '__deepcopy__',\n",
              " '__delattr__',\n",
              " '__delitem__',\n",
              " '__dict__',\n",
              " '__dir__',\n",
              " '__div__',\n",
              " '__doc__',\n",
              " '__eq__',\n",
              " '__finalize__',\n",
              " '__floordiv__',\n",
              " '__format__',\n",
              " '__ge__',\n",
              " '__getattr__',\n",
              " '__getattribute__',\n",
              " '__getitem__',\n",
              " '__getstate__',\n",
              " '__gt__',\n",
              " '__hash__',\n",
              " '__iadd__',\n",
              " '__iand__',\n",
              " '__ifloordiv__',\n",
              " '__imod__',\n",
              " '__imul__',\n",
              " '__init__',\n",
              " '__init_subclass__',\n",
              " '__invert__',\n",
              " '__ior__',\n",
              " '__ipow__',\n",
              " '__isub__',\n",
              " '__iter__',\n",
              " '__itruediv__',\n",
              " '__ixor__',\n",
              " '__le__',\n",
              " '__len__',\n",
              " '__lt__',\n",
              " '__mod__',\n",
              " '__module__',\n",
              " '__mul__',\n",
              " '__ne__',\n",
              " '__neg__',\n",
              " '__new__',\n",
              " '__nonzero__',\n",
              " '__or__',\n",
              " '__pow__',\n",
              " '__radd__',\n",
              " '__rand__',\n",
              " '__rdiv__',\n",
              " '__reduce__',\n",
              " '__reduce_ex__',\n",
              " '__repr__',\n",
              " '__rfloordiv__',\n",
              " '__rmod__',\n",
              " '__rmul__',\n",
              " '__ror__',\n",
              " '__round__',\n",
              " '__rpow__',\n",
              " '__rsub__',\n",
              " '__rtruediv__',\n",
              " '__rxor__',\n",
              " '__setattr__',\n",
              " '__setitem__',\n",
              " '__setstate__',\n",
              " '__sizeof__',\n",
              " '__str__',\n",
              " '__sub__',\n",
              " '__subclasshook__',\n",
              " '__truediv__',\n",
              " '__unicode__',\n",
              " '__weakref__',\n",
              " '__xor__',\n",
              " '_accessors',\n",
              " '_add_numeric_operations',\n",
              " '_add_series_only_operations',\n",
              " '_add_series_or_dataframe_operations',\n",
              " '_agg_by_level',\n",
              " '_agg_doc',\n",
              " '_aggregate',\n",
              " '_aggregate_multiple_funcs',\n",
              " '_align_frame',\n",
              " '_align_series',\n",
              " '_apply_broadcast',\n",
              " '_apply_empty_result',\n",
              " '_apply_raw',\n",
              " '_apply_standard',\n",
              " '_at',\n",
              " '_box_col_values',\n",
              " '_box_item_values',\n",
              " '_builtin_table',\n",
              " '_check_inplace_setting',\n",
              " '_check_is_chained_assignment_possible',\n",
              " '_check_percentile',\n",
              " '_check_setitem_copy',\n",
              " '_clear_item_cache',\n",
              " '_clip_with_one_bound',\n",
              " '_clip_with_scalar',\n",
              " '_combine_const',\n",
              " '_combine_frame',\n",
              " '_combine_match_columns',\n",
              " '_combine_match_index',\n",
              " '_combine_series',\n",
              " '_combine_series_infer',\n",
              " '_compare_frame',\n",
              " '_compare_frame_evaluate',\n",
              " '_consolidate',\n",
              " '_consolidate_inplace',\n",
              " '_construct_axes_dict',\n",
              " '_construct_axes_dict_for_slice',\n",
              " '_construct_axes_dict_from',\n",
              " '_construct_axes_from_arguments',\n",
              " '_constructor',\n",
              " '_constructor_expanddim',\n",
              " '_constructor_sliced',\n",
              " '_convert',\n",
              " '_count_level',\n",
              " '_create_indexer',\n",
              " '_cython_table',\n",
              " '_deprecations',\n",
              " '_dir_additions',\n",
              " '_dir_deletions',\n",
              " '_drop_axis',\n",
              " '_ensure_valid_index',\n",
              " '_expand_axes',\n",
              " '_flex_compare_frame',\n",
              " '_from_arrays',\n",
              " '_from_axes',\n",
              " '_get_agg_axis',\n",
              " '_get_axis',\n",
              " '_get_axis_name',\n",
              " '_get_axis_number',\n",
              " '_get_axis_resolvers',\n",
              " '_get_block_manager_axis',\n",
              " '_get_bool_data',\n",
              " '_get_cacher',\n",
              " '_get_index_resolvers',\n",
              " '_get_item_cache',\n",
              " '_get_numeric_data',\n",
              " '_get_valid_indices',\n",
              " '_get_value',\n",
              " '_get_values',\n",
              " '_getitem_array',\n",
              " '_getitem_column',\n",
              " '_getitem_frame',\n",
              " '_getitem_multilevel',\n",
              " '_getitem_slice',\n",
              " '_gotitem',\n",
              " '_iat',\n",
              " '_iget_item_cache',\n",
              " '_iloc',\n",
              " '_indexed_same',\n",
              " '_info_axis',\n",
              " '_info_axis_name',\n",
              " '_info_axis_number',\n",
              " '_info_repr',\n",
              " '_init_dict',\n",
              " '_init_mgr',\n",
              " '_init_ndarray',\n",
              " '_internal_names',\n",
              " '_internal_names_set',\n",
              " '_is_builtin_func',\n",
              " '_is_cached',\n",
              " '_is_cython_func',\n",
              " '_is_datelike_mixed_type',\n",
              " '_is_mixed_type',\n",
              " '_is_numeric_mixed_type',\n",
              " '_is_view',\n",
              " '_ix',\n",
              " '_ixs',\n",
              " '_join_compat',\n",
              " '_loc',\n",
              " '_maybe_cache_changed',\n",
              " '_maybe_update_cacher',\n",
              " '_metadata',\n",
              " '_needs_reindex_multi',\n",
              " '_obj_with_exclusions',\n",
              " '_protect_consolidate',\n",
              " '_reduce',\n",
              " '_reindex_axes',\n",
              " '_reindex_axis',\n",
              " '_reindex_columns',\n",
              " '_reindex_index',\n",
              " '_reindex_multi',\n",
              " '_reindex_with_indexers',\n",
              " '_repr_data_resource_',\n",
              " '_repr_fits_horizontal_',\n",
              " '_repr_fits_vertical_',\n",
              " '_repr_html_',\n",
              " '_repr_latex_',\n",
              " '_reset_cache',\n",
              " '_reset_cacher',\n",
              " '_sanitize_column',\n",
              " '_selected_obj',\n",
              " '_selection',\n",
              " '_selection_list',\n",
              " '_selection_name',\n",
              " '_series',\n",
              " '_set_as_cached',\n",
              " '_set_axis',\n",
              " '_set_axis_name',\n",
              " '_set_is_copy',\n",
              " '_set_item',\n",
              " '_set_value',\n",
              " '_setitem_array',\n",
              " '_setitem_frame',\n",
              " '_setitem_slice',\n",
              " '_setup_axes',\n",
              " '_shallow_copy',\n",
              " '_slice',\n",
              " '_stat_axis',\n",
              " '_stat_axis_name',\n",
              " '_stat_axis_number',\n",
              " '_take',\n",
              " '_to_dict_of_blocks',\n",
              " '_try_aggregate_string_function',\n",
              " '_typ',\n",
              " '_unpickle_frame_compat',\n",
              " '_unpickle_matrix_compat',\n",
              " '_update_inplace',\n",
              " '_validate_dtype',\n",
              " '_values',\n",
              " '_where',\n",
              " '_xs',\n",
              " 'abs',\n",
              " 'add',\n",
              " 'add_prefix',\n",
              " 'add_suffix',\n",
              " 'agg',\n",
              " 'aggregate',\n",
              " 'align',\n",
              " 'all',\n",
              " 'any',\n",
              " 'aperture',\n",
              " 'append',\n",
              " 'apply',\n",
              " 'applymap',\n",
              " 'as_matrix',\n",
              " 'asfreq',\n",
              " 'asof',\n",
              " 'assign',\n",
              " 'astype',\n",
              " 'at',\n",
              " 'at_time',\n",
              " 'auto_focus',\n",
              " 'axes',\n",
              " 'battery_capacity',\n",
              " 'battery_type',\n",
              " 'between_time',\n",
              " 'bfill',\n",
              " 'bool',\n",
              " 'boxplot',\n",
              " 'brand_rank',\n",
              " 'clip',\n",
              " 'clip_lower',\n",
              " 'clip_upper',\n",
              " 'columns',\n",
              " 'combine',\n",
              " 'combine_first',\n",
              " 'compound',\n",
              " 'copy',\n",
              " 'corr',\n",
              " 'corrwith',\n",
              " 'count',\n",
              " 'cov',\n",
              " 'cummax',\n",
              " 'cummin',\n",
              " 'cumprod',\n",
              " 'cumsum',\n",
              " 'describe',\n",
              " 'diff',\n",
              " 'display_resolution',\n",
              " 'display_type',\n",
              " 'div',\n",
              " 'divide',\n",
              " 'dot',\n",
              " 'drop',\n",
              " 'drop_duplicates',\n",
              " 'dropna',\n",
              " 'dtypes',\n",
              " 'duplicated',\n",
              " 'empty',\n",
              " 'eq',\n",
              " 'equals',\n",
              " 'eval',\n",
              " 'ewm',\n",
              " 'expandable_memory',\n",
              " 'expanding',\n",
              " 'ffill',\n",
              " 'fillna',\n",
              " 'filter',\n",
              " 'first',\n",
              " 'first_valid_index',\n",
              " 'flash_type',\n",
              " 'floordiv',\n",
              " 'frames_per_second',\n",
              " 'from_dict',\n",
              " 'from_items',\n",
              " 'from_records',\n",
              " 'front_camera_resolution',\n",
              " 'ftypes',\n",
              " 'ge',\n",
              " 'get',\n",
              " 'get_dtype_counts',\n",
              " 'get_ftype_counts',\n",
              " 'get_values',\n",
              " 'gpu_rank',\n",
              " 'groupby',\n",
              " 'gt',\n",
              " 'head',\n",
              " 'hist',\n",
              " 'iat',\n",
              " 'idxmax',\n",
              " 'idxmin',\n",
              " 'iloc',\n",
              " 'index',\n",
              " 'infer_objects',\n",
              " 'info',\n",
              " 'insert',\n",
              " 'internal_memory',\n",
              " 'interpolate',\n",
              " 'is_copy',\n",
              " 'is_liked',\n",
              " 'isin',\n",
              " 'isna',\n",
              " 'isnull',\n",
              " 'items',\n",
              " 'iteritems',\n",
              " 'iterrows',\n",
              " 'itertuples',\n",
              " 'ix',\n",
              " 'join',\n",
              " 'keys',\n",
              " 'kurt',\n",
              " 'kurtosis',\n",
              " 'last',\n",
              " 'last_valid_index',\n",
              " 'le',\n",
              " 'loc',\n",
              " 'lookup',\n",
              " 'lt',\n",
              " 'mad',\n",
              " 'mask',\n",
              " 'max',\n",
              " 'mean',\n",
              " 'median',\n",
              " 'melt',\n",
              " 'memory_usage',\n",
              " 'merge',\n",
              " 'micro_sd_slot',\n",
              " 'min',\n",
              " 'mod',\n",
              " 'mode',\n",
              " 'mul',\n",
              " 'multiply',\n",
              " 'ndim',\n",
              " 'ne',\n",
              " 'nlargest',\n",
              " 'no_of_cores',\n",
              " 'no_of_reviews_in_gsmarena_in_week',\n",
              " 'notna',\n",
              " 'notnull',\n",
              " 'nsmallest',\n",
              " 'nunique',\n",
              " 'os',\n",
              " 'pct_change',\n",
              " 'phone_height',\n",
              " 'phone_width',\n",
              " 'pipe',\n",
              " 'pivot',\n",
              " 'pivot_table',\n",
              " 'plot',\n",
              " 'pop',\n",
              " 'pow',\n",
              " 'price',\n",
              " 'primary_camera_resolution',\n",
              " 'processor_frequency',\n",
              " 'processor_rank',\n",
              " 'prod',\n",
              " 'product',\n",
              " 'quantile',\n",
              " 'query',\n",
              " 'radd',\n",
              " 'ram_memory',\n",
              " 'rank',\n",
              " 'rdiv',\n",
              " 'reindex',\n",
              " 'reindex_axis',\n",
              " 'reindex_like',\n",
              " 'removable_battery',\n",
              " 'rename',\n",
              " 'rename_axis',\n",
              " 'reorder_levels',\n",
              " 'replace',\n",
              " 'resample',\n",
              " 'reset_index',\n",
              " 'rfloordiv',\n",
              " 'rmod',\n",
              " 'rmul',\n",
              " 'rolling',\n",
              " 'round',\n",
              " 'rpow',\n",
              " 'rsub',\n",
              " 'rtruediv',\n",
              " 'sample',\n",
              " 'screen_pixel_density',\n",
              " 'screen_protection',\n",
              " 'screen_size',\n",
              " 'select',\n",
              " 'select_dtypes',\n",
              " 'sem',\n",
              " 'set_axis',\n",
              " 'set_index',\n",
              " 'shape',\n",
              " 'shift',\n",
              " 'sim_size',\n",
              " 'sim_type',\n",
              " 'size',\n",
              " 'skew',\n",
              " 'slice_shift',\n",
              " 'sort_index',\n",
              " 'sort_values',\n",
              " 'squeeze',\n",
              " 'stack',\n",
              " 'stand_by_time',\n",
              " 'std',\n",
              " 'style',\n",
              " 'sub',\n",
              " 'subtract',\n",
              " 'sum',\n",
              " 'swapaxes',\n",
              " 'swaplevel',\n",
              " 'tail',\n",
              " 'take',\n",
              " 'talk_time',\n",
              " 'thickness',\n",
              " 'to_clipboard',\n",
              " 'to_csv',\n",
              " 'to_dense',\n",
              " 'to_dict',\n",
              " 'to_excel',\n",
              " 'to_feather',\n",
              " 'to_gbq',\n",
              " 'to_hdf',\n",
              " 'to_html',\n",
              " 'to_json',\n",
              " 'to_latex',\n",
              " 'to_msgpack',\n",
              " 'to_panel',\n",
              " 'to_parquet',\n",
              " 'to_period',\n",
              " 'to_pickle',\n",
              " 'to_records',\n",
              " 'to_sparse',\n",
              " 'to_sql',\n",
              " 'to_stata',\n",
              " 'to_string',\n",
              " 'to_timestamp',\n",
              " 'to_xarray',\n",
              " 'transform',\n",
              " 'transpose',\n",
              " 'truediv',\n",
              " 'truncate',\n",
              " 'tshift',\n",
              " 'tz_convert',\n",
              " 'tz_localize',\n",
              " 'unstack',\n",
              " 'update',\n",
              " 'usb_type',\n",
              " 'values',\n",
              " 'var',\n",
              " 'version',\n",
              " 'video_resolution',\n",
              " 'water_proof_rate',\n",
              " 'weight',\n",
              " 'where',\n",
              " 'xs']"
            ]
          },
          "metadata": {
            "tags": []
          },
          "execution_count": 17
        }
      ]
    },
    {
      "metadata": {
        "id": "OoreMTzQHBpL",
        "colab_type": "code",
        "colab": {
          "base_uri": "https://localhost:8080/",
          "height": 34
        },
        "outputId": "b2097530-0dcb-43ab-8856-7617715b9590"
      },
      "cell_type": "code",
      "source": [
        "len(df)"
      ],
      "execution_count": 18,
      "outputs": [
        {
          "output_type": "execute_result",
          "data": {
            "text/plain": [
              "109"
            ]
          },
          "metadata": {
            "tags": []
          },
          "execution_count": 18
        }
      ]
    },
    {
      "metadata": {
        "id": "GXlUf-mgWDyf",
        "colab_type": "code",
        "colab": {
          "base_uri": "https://localhost:8080/",
          "height": 34
        },
        "outputId": "dbdcfde3-29ec-4974-bc47-530a6e52cd6e"
      },
      "cell_type": "code",
      "source": [
        "df.shape"
      ],
      "execution_count": 20,
      "outputs": [
        {
          "output_type": "execute_result",
          "data": {
            "text/plain": [
              "(109, 40)"
            ]
          },
          "metadata": {
            "tags": []
          },
          "execution_count": 20
        }
      ]
    },
    {
      "metadata": {
        "id": "sn82Y_HQWIV8",
        "colab_type": "code",
        "colab": {
          "base_uri": "https://localhost:8080/",
          "height": 714
        },
        "outputId": "093523cb-c12e-4673-f36c-21273f3ca0fe"
      },
      "cell_type": "code",
      "source": [
        "df.loc[5]"
      ],
      "execution_count": 22,
      "outputs": [
        {
          "output_type": "execute_result",
          "data": {
            "text/plain": [
              "sim_type                                0.0\n",
              "aperture                               14.0\n",
              "gpu_rank                               55.0\n",
              "weight                                179.0\n",
              "stand_by_time                         280.0\n",
              "processor_frequency                     1.3\n",
              "thickness                               7.9\n",
              "flash_type                              5.0\n",
              "front_camera_resolution                 5.0\n",
              "auto_focus                              3.0\n",
              "screen_size                             5.5\n",
              "frames_per_second                      30.0\n",
              "FM                                      3.0\n",
              "no_of_reviews_in_gsmarena_in_week       6.0\n",
              "os                                      0.0\n",
              "phone_height                          150.0\n",
              "screen_protection                       5.0\n",
              "sim_size                                3.0\n",
              "price                                5999.0\n",
              "talk_time                              22.0\n",
              "video_resolution                      720.0\n",
              "display_resolution                      0.0\n",
              "removable_battery                       0.0\n",
              "display_type                            2.0\n",
              "primary_camera_resolution               8.0\n",
              "battery_type                            1.0\n",
              "ram_memory                              1.0\n",
              "internal_memory                         7.0\n",
              "brand_rank                              4.0\n",
              "no_of_cores                             6.0\n",
              "micro_sd_slot                           4.0\n",
              "screen_pixel_density                    7.0\n",
              "water_proof_rate                        3.0\n",
              "phone_width                            71.0\n",
              "expandable_memory                      32.0\n",
              "version                                 6.0\n",
              "usb_type                                3.0\n",
              "battery_capacity                     2900.0\n",
              "processor_rank                        165.0\n",
              "is_liked                                0.0\n",
              "Name: 5, dtype: float64"
            ]
          },
          "metadata": {
            "tags": []
          },
          "execution_count": 22
        }
      ]
    },
    {
      "metadata": {
        "id": "2nOcmUUeWP2Y",
        "colab_type": "code",
        "colab": {}
      },
      "cell_type": "code",
      "source": [
        "df_short=df[0:10]"
      ],
      "execution_count": 0,
      "outputs": []
    },
    {
      "metadata": {
        "id": "9_6F_YCQWcY6",
        "colab_type": "code",
        "colab": {
          "base_uri": "https://localhost:8080/",
          "height": 34
        },
        "outputId": "009dea82-4a2d-4733-fa3c-fc68ee8f64d6"
      },
      "cell_type": "code",
      "source": [
        "df_short.shape"
      ],
      "execution_count": 24,
      "outputs": [
        {
          "output_type": "execute_result",
          "data": {
            "text/plain": [
              "(10, 40)"
            ]
          },
          "metadata": {
            "tags": []
          },
          "execution_count": 24
        }
      ]
    },
    {
      "metadata": {
        "id": "cVf0IXS-WfOh",
        "colab_type": "code",
        "colab": {
          "base_uri": "https://localhost:8080/",
          "height": 253
        },
        "outputId": "22cdfbab-f5df-434c-8c10-e20a803cfc9f"
      },
      "cell_type": "code",
      "source": [
        "df_short.head()"
      ],
      "execution_count": 25,
      "outputs": [
        {
          "output_type": "execute_result",
          "data": {
            "text/html": [
              "<div>\n",
              "<style scoped>\n",
              "    .dataframe tbody tr th:only-of-type {\n",
              "        vertical-align: middle;\n",
              "    }\n",
              "\n",
              "    .dataframe tbody tr th {\n",
              "        vertical-align: top;\n",
              "    }\n",
              "\n",
              "    .dataframe thead th {\n",
              "        text-align: right;\n",
              "    }\n",
              "</style>\n",
              "<table border=\"1\" class=\"dataframe\">\n",
              "  <thead>\n",
              "    <tr style=\"text-align: right;\">\n",
              "      <th></th>\n",
              "      <th>sim_type</th>\n",
              "      <th>aperture</th>\n",
              "      <th>gpu_rank</th>\n",
              "      <th>weight</th>\n",
              "      <th>stand_by_time</th>\n",
              "      <th>processor_frequency</th>\n",
              "      <th>thickness</th>\n",
              "      <th>flash_type</th>\n",
              "      <th>front_camera_resolution</th>\n",
              "      <th>auto_focus</th>\n",
              "      <th>...</th>\n",
              "      <th>micro_sd_slot</th>\n",
              "      <th>screen_pixel_density</th>\n",
              "      <th>water_proof_rate</th>\n",
              "      <th>phone_width</th>\n",
              "      <th>expandable_memory</th>\n",
              "      <th>version</th>\n",
              "      <th>usb_type</th>\n",
              "      <th>battery_capacity</th>\n",
              "      <th>processor_rank</th>\n",
              "      <th>is_liked</th>\n",
              "    </tr>\n",
              "  </thead>\n",
              "  <tbody>\n",
              "    <tr>\n",
              "      <th>0</th>\n",
              "      <td>0</td>\n",
              "      <td>12</td>\n",
              "      <td>55</td>\n",
              "      <td>155.0</td>\n",
              "      <td>250</td>\n",
              "      <td>1.3</td>\n",
              "      <td>10.5</td>\n",
              "      <td>5</td>\n",
              "      <td>2.00</td>\n",
              "      <td>0</td>\n",
              "      <td>...</td>\n",
              "      <td>4</td>\n",
              "      <td>2</td>\n",
              "      <td>3</td>\n",
              "      <td>67.8</td>\n",
              "      <td>64.0</td>\n",
              "      <td>5</td>\n",
              "      <td>3</td>\n",
              "      <td>2000</td>\n",
              "      <td>125</td>\n",
              "      <td>1</td>\n",
              "    </tr>\n",
              "    <tr>\n",
              "      <th>1</th>\n",
              "      <td>0</td>\n",
              "      <td>1</td>\n",
              "      <td>55</td>\n",
              "      <td>132.0</td>\n",
              "      <td>300</td>\n",
              "      <td>1.3</td>\n",
              "      <td>10.6</td>\n",
              "      <td>5</td>\n",
              "      <td>0.30</td>\n",
              "      <td>1</td>\n",
              "      <td>...</td>\n",
              "      <td>4</td>\n",
              "      <td>4</td>\n",
              "      <td>6</td>\n",
              "      <td>64.0</td>\n",
              "      <td>32.0</td>\n",
              "      <td>5</td>\n",
              "      <td>3</td>\n",
              "      <td>2000</td>\n",
              "      <td>165</td>\n",
              "      <td>1</td>\n",
              "    </tr>\n",
              "    <tr>\n",
              "      <th>2</th>\n",
              "      <td>0</td>\n",
              "      <td>9</td>\n",
              "      <td>55</td>\n",
              "      <td>142.0</td>\n",
              "      <td>329</td>\n",
              "      <td>1.5</td>\n",
              "      <td>8.5</td>\n",
              "      <td>5</td>\n",
              "      <td>2.00</td>\n",
              "      <td>3</td>\n",
              "      <td>...</td>\n",
              "      <td>4</td>\n",
              "      <td>9</td>\n",
              "      <td>6</td>\n",
              "      <td>72.0</td>\n",
              "      <td>32.0</td>\n",
              "      <td>6</td>\n",
              "      <td>3</td>\n",
              "      <td>2500</td>\n",
              "      <td>164</td>\n",
              "      <td>0</td>\n",
              "    </tr>\n",
              "    <tr>\n",
              "      <th>3</th>\n",
              "      <td>0</td>\n",
              "      <td>8</td>\n",
              "      <td>55</td>\n",
              "      <td>152.0</td>\n",
              "      <td>385</td>\n",
              "      <td>1.3</td>\n",
              "      <td>8.0</td>\n",
              "      <td>5</td>\n",
              "      <td>2.00</td>\n",
              "      <td>3</td>\n",
              "      <td>...</td>\n",
              "      <td>4</td>\n",
              "      <td>1</td>\n",
              "      <td>3</td>\n",
              "      <td>75.1</td>\n",
              "      <td>32.0</td>\n",
              "      <td>6</td>\n",
              "      <td>3</td>\n",
              "      <td>3000</td>\n",
              "      <td>165</td>\n",
              "      <td>1</td>\n",
              "    </tr>\n",
              "    <tr>\n",
              "      <th>4</th>\n",
              "      <td>1</td>\n",
              "      <td>1</td>\n",
              "      <td>55</td>\n",
              "      <td>234.0</td>\n",
              "      <td>385</td>\n",
              "      <td>1.3</td>\n",
              "      <td>7.9</td>\n",
              "      <td>5</td>\n",
              "      <td>1.92</td>\n",
              "      <td>3</td>\n",
              "      <td>...</td>\n",
              "      <td>4</td>\n",
              "      <td>1</td>\n",
              "      <td>6</td>\n",
              "      <td>91.0</td>\n",
              "      <td>32.0</td>\n",
              "      <td>6</td>\n",
              "      <td>3</td>\n",
              "      <td>3000</td>\n",
              "      <td>165</td>\n",
              "      <td>0</td>\n",
              "    </tr>\n",
              "  </tbody>\n",
              "</table>\n",
              "<p>5 rows × 40 columns</p>\n",
              "</div>"
            ],
            "text/plain": [
              "   sim_type  aperture  gpu_rank  weight  stand_by_time  processor_frequency  \\\n",
              "0         0        12        55   155.0            250                  1.3   \n",
              "1         0         1        55   132.0            300                  1.3   \n",
              "2         0         9        55   142.0            329                  1.5   \n",
              "3         0         8        55   152.0            385                  1.3   \n",
              "4         1         1        55   234.0            385                  1.3   \n",
              "\n",
              "   thickness  flash_type  front_camera_resolution  auto_focus    ...     \\\n",
              "0       10.5           5                     2.00           0    ...      \n",
              "1       10.6           5                     0.30           1    ...      \n",
              "2        8.5           5                     2.00           3    ...      \n",
              "3        8.0           5                     2.00           3    ...      \n",
              "4        7.9           5                     1.92           3    ...      \n",
              "\n",
              "   micro_sd_slot  screen_pixel_density  water_proof_rate  phone_width  \\\n",
              "0              4                     2                 3         67.8   \n",
              "1              4                     4                 6         64.0   \n",
              "2              4                     9                 6         72.0   \n",
              "3              4                     1                 3         75.1   \n",
              "4              4                     1                 6         91.0   \n",
              "\n",
              "   expandable_memory  version  usb_type  battery_capacity  processor_rank  \\\n",
              "0               64.0        5         3              2000             125   \n",
              "1               32.0        5         3              2000             165   \n",
              "2               32.0        6         3              2500             164   \n",
              "3               32.0        6         3              3000             165   \n",
              "4               32.0        6         3              3000             165   \n",
              "\n",
              "   is_liked  \n",
              "0         1  \n",
              "1         1  \n",
              "2         0  \n",
              "3         1  \n",
              "4         0  \n",
              "\n",
              "[5 rows x 40 columns]"
            ]
          },
          "metadata": {
            "tags": []
          },
          "execution_count": 25
        }
      ]
    },
    {
      "metadata": {
        "id": "CAs3ZobNWiie",
        "colab_type": "code",
        "colab": {}
      },
      "cell_type": "code",
      "source": [
        "df_thin=df[['stand_by_time','battery_capacity','price','expandable_memory','is_liked']]"
      ],
      "execution_count": 0,
      "outputs": []
    },
    {
      "metadata": {
        "id": "G23QeFogW81p",
        "colab_type": "code",
        "colab": {
          "base_uri": "https://localhost:8080/",
          "height": 34
        },
        "outputId": "dc0390cd-f2cd-452b-a190-9aae5b277891"
      },
      "cell_type": "code",
      "source": [
        "df_thin.shape"
      ],
      "execution_count": 28,
      "outputs": [
        {
          "output_type": "execute_result",
          "data": {
            "text/plain": [
              "(109, 5)"
            ]
          },
          "metadata": {
            "tags": []
          },
          "execution_count": 28
        }
      ]
    },
    {
      "metadata": {
        "id": "dk_WXnDIW__C",
        "colab_type": "code",
        "colab": {
          "base_uri": "https://localhost:8080/",
          "height": 204
        },
        "outputId": "654f582d-a519-4c6e-a26f-7e2e473b1b56"
      },
      "cell_type": "code",
      "source": [
        "df_thin.head()"
      ],
      "execution_count": 29,
      "outputs": [
        {
          "output_type": "execute_result",
          "data": {
            "text/html": [
              "<div>\n",
              "<style scoped>\n",
              "    .dataframe tbody tr th:only-of-type {\n",
              "        vertical-align: middle;\n",
              "    }\n",
              "\n",
              "    .dataframe tbody tr th {\n",
              "        vertical-align: top;\n",
              "    }\n",
              "\n",
              "    .dataframe thead th {\n",
              "        text-align: right;\n",
              "    }\n",
              "</style>\n",
              "<table border=\"1\" class=\"dataframe\">\n",
              "  <thead>\n",
              "    <tr style=\"text-align: right;\">\n",
              "      <th></th>\n",
              "      <th>stand_by_time</th>\n",
              "      <th>battery_capacity</th>\n",
              "      <th>price</th>\n",
              "      <th>expandable_memory</th>\n",
              "      <th>is_liked</th>\n",
              "    </tr>\n",
              "  </thead>\n",
              "  <tbody>\n",
              "    <tr>\n",
              "      <th>0</th>\n",
              "      <td>250</td>\n",
              "      <td>2000</td>\n",
              "      <td>3870</td>\n",
              "      <td>64.0</td>\n",
              "      <td>1</td>\n",
              "    </tr>\n",
              "    <tr>\n",
              "      <th>1</th>\n",
              "      <td>300</td>\n",
              "      <td>2000</td>\n",
              "      <td>4059</td>\n",
              "      <td>32.0</td>\n",
              "      <td>1</td>\n",
              "    </tr>\n",
              "    <tr>\n",
              "      <th>2</th>\n",
              "      <td>329</td>\n",
              "      <td>2500</td>\n",
              "      <td>4777</td>\n",
              "      <td>32.0</td>\n",
              "      <td>0</td>\n",
              "    </tr>\n",
              "    <tr>\n",
              "      <th>3</th>\n",
              "      <td>385</td>\n",
              "      <td>3000</td>\n",
              "      <td>5799</td>\n",
              "      <td>32.0</td>\n",
              "      <td>1</td>\n",
              "    </tr>\n",
              "    <tr>\n",
              "      <th>4</th>\n",
              "      <td>385</td>\n",
              "      <td>3000</td>\n",
              "      <td>5990</td>\n",
              "      <td>32.0</td>\n",
              "      <td>0</td>\n",
              "    </tr>\n",
              "  </tbody>\n",
              "</table>\n",
              "</div>"
            ],
            "text/plain": [
              "   stand_by_time  battery_capacity  price  expandable_memory  is_liked\n",
              "0            250              2000   3870               64.0         1\n",
              "1            300              2000   4059               32.0         1\n",
              "2            329              2500   4777               32.0         0\n",
              "3            385              3000   5799               32.0         1\n",
              "4            385              3000   5990               32.0         0"
            ]
          },
          "metadata": {
            "tags": []
          },
          "execution_count": 29
        }
      ]
    },
    {
      "metadata": {
        "id": "Rp8GmYT3XCz_",
        "colab_type": "code",
        "colab": {}
      },
      "cell_type": "code",
      "source": [
        "df_liked = df_thin[df_thin['is_liked']==1]"
      ],
      "execution_count": 0,
      "outputs": []
    },
    {
      "metadata": {
        "id": "ztG7XDgRXbLw",
        "colab_type": "code",
        "colab": {
          "base_uri": "https://localhost:8080/",
          "height": 34
        },
        "outputId": "b53c5830-e9a5-4cda-cb8e-d1ebf68d7452"
      },
      "cell_type": "code",
      "source": [
        "df_liked.shape"
      ],
      "execution_count": 33,
      "outputs": [
        {
          "output_type": "execute_result",
          "data": {
            "text/plain": [
              "(92, 5)"
            ]
          },
          "metadata": {
            "tags": []
          },
          "execution_count": 33
        }
      ]
    },
    {
      "metadata": {
        "id": "01RCzyCGXm3U",
        "colab_type": "code",
        "colab": {
          "base_uri": "https://localhost:8080/",
          "height": 34
        },
        "outputId": "d02a0198-fad2-4812-e1a3-d42ff29a3f53"
      },
      "cell_type": "code",
      "source": [
        "df_liked['price'].mean()"
      ],
      "execution_count": 34,
      "outputs": [
        {
          "output_type": "execute_result",
          "data": {
            "text/plain": [
              "19393.239130434784"
            ]
          },
          "metadata": {
            "tags": []
          },
          "execution_count": 34
        }
      ]
    },
    {
      "metadata": {
        "id": "jDL54fZ7XrkU",
        "colab_type": "code",
        "colab": {
          "base_uri": "https://localhost:8080/",
          "height": 34
        },
        "outputId": "5882f667-9e78-4c3e-ccd5-d0ab78475b55"
      },
      "cell_type": "code",
      "source": [
        "df_liked['price'].min()"
      ],
      "execution_count": 35,
      "outputs": [
        {
          "output_type": "execute_result",
          "data": {
            "text/plain": [
              "3870"
            ]
          },
          "metadata": {
            "tags": []
          },
          "execution_count": 35
        }
      ]
    },
    {
      "metadata": {
        "id": "YgaiJMCEXxIi",
        "colab_type": "code",
        "colab": {
          "base_uri": "https://localhost:8080/",
          "height": 34
        },
        "outputId": "26a48cf0-753f-4666-e919-bf7086fc8e33"
      },
      "cell_type": "code",
      "source": [
        "df_liked['price'].max()"
      ],
      "execution_count": 36,
      "outputs": [
        {
          "output_type": "execute_result",
          "data": {
            "text/plain": [
              "64500"
            ]
          },
          "metadata": {
            "tags": []
          },
          "execution_count": 36
        }
      ]
    },
    {
      "metadata": {
        "id": "sVwwUKnSYZZS",
        "colab_type": "code",
        "colab": {
          "base_uri": "https://localhost:8080/",
          "height": 34
        },
        "outputId": "9022b356-5b40-434e-c079-5318f8c8345a"
      },
      "cell_type": "code",
      "source": [
        "df_liked['price'].count()"
      ],
      "execution_count": 37,
      "outputs": [
        {
          "output_type": "execute_result",
          "data": {
            "text/plain": [
              "92"
            ]
          },
          "metadata": {
            "tags": []
          },
          "execution_count": 37
        }
      ]
    },
    {
      "metadata": {
        "id": "93_yxz8rYalx",
        "colab_type": "code",
        "colab": {
          "base_uri": "https://localhost:8080/",
          "height": 170
        },
        "outputId": "81d1cba5-d43b-49b2-cd33-e5c2221ed0d2"
      },
      "cell_type": "code",
      "source": [
        "df_liked['price'].describe()"
      ],
      "execution_count": 38,
      "outputs": [
        {
          "output_type": "execute_result",
          "data": {
            "text/plain": [
              "count       92.000000\n",
              "mean     19393.239130\n",
              "std      14559.162189\n",
              "min       3870.000000\n",
              "25%       9299.000000\n",
              "50%      14124.000000\n",
              "75%      24924.750000\n",
              "max      64500.000000\n",
              "Name: price, dtype: float64"
            ]
          },
          "metadata": {
            "tags": []
          },
          "execution_count": 38
        }
      ]
    },
    {
      "metadata": {
        "id": "1ZmjWB-kYdKH",
        "colab_type": "code",
        "colab": {
          "base_uri": "https://localhost:8080/",
          "height": 297
        },
        "outputId": "d5a9920c-cf59-4b1d-8a40-6678a023d27d"
      },
      "cell_type": "code",
      "source": [
        "df_thin.describe()"
      ],
      "execution_count": 39,
      "outputs": [
        {
          "output_type": "execute_result",
          "data": {
            "text/html": [
              "<div>\n",
              "<style scoped>\n",
              "    .dataframe tbody tr th:only-of-type {\n",
              "        vertical-align: middle;\n",
              "    }\n",
              "\n",
              "    .dataframe tbody tr th {\n",
              "        vertical-align: top;\n",
              "    }\n",
              "\n",
              "    .dataframe thead th {\n",
              "        text-align: right;\n",
              "    }\n",
              "</style>\n",
              "<table border=\"1\" class=\"dataframe\">\n",
              "  <thead>\n",
              "    <tr style=\"text-align: right;\">\n",
              "      <th></th>\n",
              "      <th>stand_by_time</th>\n",
              "      <th>battery_capacity</th>\n",
              "      <th>price</th>\n",
              "      <th>expandable_memory</th>\n",
              "      <th>is_liked</th>\n",
              "    </tr>\n",
              "  </thead>\n",
              "  <tbody>\n",
              "    <tr>\n",
              "      <th>count</th>\n",
              "      <td>109.00000</td>\n",
              "      <td>109.000000</td>\n",
              "      <td>109.000000</td>\n",
              "      <td>109.000000</td>\n",
              "      <td>109.000000</td>\n",
              "    </tr>\n",
              "    <tr>\n",
              "      <th>mean</th>\n",
              "      <td>404.66055</td>\n",
              "      <td>2841.779817</td>\n",
              "      <td>19373.211009</td>\n",
              "      <td>104.513761</td>\n",
              "      <td>0.844037</td>\n",
              "    </tr>\n",
              "    <tr>\n",
              "      <th>std</th>\n",
              "      <td>176.44206</td>\n",
              "      <td>655.003963</td>\n",
              "      <td>14039.197220</td>\n",
              "      <td>275.799767</td>\n",
              "      <td>0.364496</td>\n",
              "    </tr>\n",
              "    <tr>\n",
              "      <th>min</th>\n",
              "      <td>160.00000</td>\n",
              "      <td>1560.000000</td>\n",
              "      <td>3870.000000</td>\n",
              "      <td>0.000000</td>\n",
              "      <td>0.000000</td>\n",
              "    </tr>\n",
              "    <tr>\n",
              "      <th>25%</th>\n",
              "      <td>264.00000</td>\n",
              "      <td>2470.000000</td>\n",
              "      <td>8999.000000</td>\n",
              "      <td>0.000000</td>\n",
              "      <td>1.000000</td>\n",
              "    </tr>\n",
              "    <tr>\n",
              "      <th>50%</th>\n",
              "      <td>360.00000</td>\n",
              "      <td>2900.000000</td>\n",
              "      <td>14614.000000</td>\n",
              "      <td>32.000000</td>\n",
              "      <td>1.000000</td>\n",
              "    </tr>\n",
              "    <tr>\n",
              "      <th>75%</th>\n",
              "      <td>500.00000</td>\n",
              "      <td>3100.000000</td>\n",
              "      <td>24999.000000</td>\n",
              "      <td>128.000000</td>\n",
              "      <td>1.000000</td>\n",
              "    </tr>\n",
              "    <tr>\n",
              "      <th>max</th>\n",
              "      <td>1093.00000</td>\n",
              "      <td>5000.000000</td>\n",
              "      <td>64500.000000</td>\n",
              "      <td>2048.000000</td>\n",
              "      <td>1.000000</td>\n",
              "    </tr>\n",
              "  </tbody>\n",
              "</table>\n",
              "</div>"
            ],
            "text/plain": [
              "       stand_by_time  battery_capacity         price  expandable_memory  \\\n",
              "count      109.00000        109.000000    109.000000         109.000000   \n",
              "mean       404.66055       2841.779817  19373.211009         104.513761   \n",
              "std        176.44206        655.003963  14039.197220         275.799767   \n",
              "min        160.00000       1560.000000   3870.000000           0.000000   \n",
              "25%        264.00000       2470.000000   8999.000000           0.000000   \n",
              "50%        360.00000       2900.000000  14614.000000          32.000000   \n",
              "75%        500.00000       3100.000000  24999.000000         128.000000   \n",
              "max       1093.00000       5000.000000  64500.000000        2048.000000   \n",
              "\n",
              "         is_liked  \n",
              "count  109.000000  \n",
              "mean     0.844037  \n",
              "std      0.364496  \n",
              "min      0.000000  \n",
              "25%      1.000000  \n",
              "50%      1.000000  \n",
              "75%      1.000000  \n",
              "max      1.000000  "
            ]
          },
          "metadata": {
            "tags": []
          },
          "execution_count": 39
        }
      ]
    },
    {
      "metadata": {
        "id": "7lgJTecIYiMn",
        "colab_type": "code",
        "colab": {
          "base_uri": "https://localhost:8080/",
          "height": 34
        },
        "outputId": "725d7345-061f-493e-8ea5-75e00bac84a6"
      },
      "cell_type": "code",
      "source": [
        "df_thin[df_thin['is_liked']==1]['price'].mean()"
      ],
      "execution_count": 40,
      "outputs": [
        {
          "output_type": "execute_result",
          "data": {
            "text/plain": [
              "19393.239130434784"
            ]
          },
          "metadata": {
            "tags": []
          },
          "execution_count": 40
        }
      ]
    },
    {
      "metadata": {
        "id": "87RSv7L8Y-Ww",
        "colab_type": "code",
        "colab": {}
      },
      "cell_type": "code",
      "source": [
        "df_thin[df_thin['is_liked']==1]['price']"
      ],
      "execution_count": 0,
      "outputs": []
    },
    {
      "metadata": {
        "id": "EnOxLXldZCpB",
        "colab_type": "code",
        "colab": {
          "base_uri": "https://localhost:8080/",
          "height": 34
        },
        "outputId": "0c8d997f-b3f8-441e-f42f-7923918dd14e"
      },
      "cell_type": "code",
      "source": [
        "df_thin[df_thin['is_liked']==0]['price'].mean()"
      ],
      "execution_count": 43,
      "outputs": [
        {
          "output_type": "execute_result",
          "data": {
            "text/plain": [
              "19264.823529411766"
            ]
          },
          "metadata": {
            "tags": []
          },
          "execution_count": 43
        }
      ]
    },
    {
      "metadata": {
        "id": "uNUJHBp7ZM1l",
        "colab_type": "code",
        "colab": {}
      },
      "cell_type": "code",
      "source": [
        "g=df_thin.groupby(['is_liked'])"
      ],
      "execution_count": 0,
      "outputs": []
    },
    {
      "metadata": {
        "id": "uBi_wHn5Zl6D",
        "colab_type": "code",
        "colab": {
          "base_uri": "https://localhost:8080/",
          "height": 1445
        },
        "outputId": "39fecff7-2cb3-46e3-b3d8-c21d1a06c933"
      },
      "cell_type": "code",
      "source": [
        "for key,df_key in g:\n",
        "  print (key)\n",
        "  print (df_key)"
      ],
      "execution_count": 46,
      "outputs": [
        {
          "output_type": "stream",
          "text": [
            "0\n",
            "     stand_by_time  battery_capacity  price  expandable_memory  is_liked\n",
            "2              329              2500   4777               32.0         0\n",
            "4              385              3000   5990               32.0         0\n",
            "5              280              2900   5999               32.0         0\n",
            "11             300              2600   6990              128.0         0\n",
            "22             354              2400   7999              128.0         0\n",
            "38             490              2100   9999               32.0         0\n",
            "53             345              2950  14300               64.0         0\n",
            "60             840              4100  15689                0.0         0\n",
            "74             390              2800  21999              128.0         0\n",
            "77             620              3100  22999              128.0         0\n",
            "78             618              3600  24499                0.0         0\n",
            "80             598              3000  24999                0.0         0\n",
            "83             504              2600  25500              200.0         0\n",
            "90             500              3760  34999                0.0         0\n",
            "91             240              1624  34999                0.0         0\n",
            "95             580              2840  37766              256.0         0\n",
            "108            400              3000  27999                0.0         0\n",
            "1\n",
            "     stand_by_time  battery_capacity  price  expandable_memory  is_liked\n",
            "0              250              2000   3870               64.0         1\n",
            "1              300              2000   4059               32.0         1\n",
            "3              385              3000   5799               32.0         1\n",
            "6              230              1700   5999              128.0         1\n",
            "7              182              2000   6599               32.0         1\n",
            "8              182              2000   6599               32.0         1\n",
            "9              435              3000   6649               32.0         1\n",
            "10             514              4000   6749               32.0         1\n",
            "12             280              2500   6999               32.0         1\n",
            "13             198              2200   6999               32.0         1\n",
            "14             200              2500   6999               32.0         1\n",
            "15             680              2500   6999              256.0         1\n",
            "16             576              2200   7340              128.0         1\n",
            "17             264              2300   7499               32.0         1\n",
            "18             180              2000   7590              128.0         1\n",
            "19             160              2230   7790               32.0         1\n",
            "20             450              4000   7899               32.0         1\n",
            "21             264              2900   7914               32.0         1\n",
            "23             345              2000   8490                0.0         1\n",
            "24             322              2750   8499               32.0         1\n",
            "25             914              5000   8999               64.0         1\n",
            "26             456              3000   8999              128.0         1\n",
            "27             350              3000   8999               64.0         1\n",
            "28             617              2100   9399               32.0         1\n",
            "29             775              3100   9499               32.0         1\n",
            "30             218              2420   9700              128.0         1\n",
            "31             270              2900   9715               32.0         1\n",
            "32             250              2470   9999               32.0         1\n",
            "33             264              4050   9999                0.0         1\n",
            "34             265              4050   9999                0.0         1\n",
            "..             ...               ...    ...                ...       ...\n",
            "70             170              2600  19890              128.0         1\n",
            "71             360              3100  19999                0.0         1\n",
            "72             250              1560  20397                0.0         1\n",
            "73             687              2600  21300              128.0         1\n",
            "75             635              2930  21999              200.0         1\n",
            "76             360              3300  22999                0.0         1\n",
            "79             180              2900  24900              128.0         1\n",
            "81             410              3000  24999              128.0         1\n",
            "82             590              2930  25500              128.0         1\n",
            "84             250              2850  27580              128.0         1\n",
            "85             200              3220  29900              128.0         1\n",
            "86             420              3200  29990               64.0         1\n",
            "87             410              3000  30947             2048.0         1\n",
            "88             440              3450  31999                0.0         1\n",
            "89             354              2550  33900                0.0         1\n",
            "92             360              2700  35900                0.0         1\n",
            "93             250              1810  36499                0.0         1\n",
            "94             250              1810  36999                0.0         1\n",
            "96             410              3000  38000               32.0         1\n",
            "97             340              2900  39890              256.0         1\n",
            "98             362              2600  40900               64.0         1\n",
            "99             250              1810  48329                0.0         1\n",
            "100            242              3000  48900              200.0         1\n",
            "101            240              1715  49499                0.0         1\n",
            "102            330              3450  50895                0.0         1\n",
            "103            600              3430  52699              256.0         1\n",
            "104            540              3410  54900              256.0         1\n",
            "105            400              3600  56900              200.0         1\n",
            "106            384              2750  59000                0.0         1\n",
            "107            250              1810  64500                0.0         1\n",
            "\n",
            "[92 rows x 5 columns]\n"
          ],
          "name": "stdout"
        }
      ]
    },
    {
      "metadata": {
        "id": "tlBwACn9Zskq",
        "colab_type": "code",
        "colab": {
          "base_uri": "https://localhost:8080/",
          "height": 142
        },
        "outputId": "ed7060a3-65e4-4e82-ead0-b4f138580561"
      },
      "cell_type": "code",
      "source": [
        "df_thin.groupby(['is_liked']).mean()"
      ],
      "execution_count": 47,
      "outputs": [
        {
          "output_type": "execute_result",
          "data": {
            "text/html": [
              "<div>\n",
              "<style scoped>\n",
              "    .dataframe tbody tr th:only-of-type {\n",
              "        vertical-align: middle;\n",
              "    }\n",
              "\n",
              "    .dataframe tbody tr th {\n",
              "        vertical-align: top;\n",
              "    }\n",
              "\n",
              "    .dataframe thead th {\n",
              "        text-align: right;\n",
              "    }\n",
              "</style>\n",
              "<table border=\"1\" class=\"dataframe\">\n",
              "  <thead>\n",
              "    <tr style=\"text-align: right;\">\n",
              "      <th></th>\n",
              "      <th>stand_by_time</th>\n",
              "      <th>battery_capacity</th>\n",
              "      <th>price</th>\n",
              "      <th>expandable_memory</th>\n",
              "    </tr>\n",
              "    <tr>\n",
              "      <th>is_liked</th>\n",
              "      <th></th>\n",
              "      <th></th>\n",
              "      <th></th>\n",
              "      <th></th>\n",
              "    </tr>\n",
              "  </thead>\n",
              "  <tbody>\n",
              "    <tr>\n",
              "      <th>0</th>\n",
              "      <td>457.235294</td>\n",
              "      <td>2874.941176</td>\n",
              "      <td>19264.823529</td>\n",
              "      <td>68.235294</td>\n",
              "    </tr>\n",
              "    <tr>\n",
              "      <th>1</th>\n",
              "      <td>394.945652</td>\n",
              "      <td>2835.652174</td>\n",
              "      <td>19393.239130</td>\n",
              "      <td>111.217391</td>\n",
              "    </tr>\n",
              "  </tbody>\n",
              "</table>\n",
              "</div>"
            ],
            "text/plain": [
              "          stand_by_time  battery_capacity         price  expandable_memory\n",
              "is_liked                                                                  \n",
              "0            457.235294       2874.941176  19264.823529          68.235294\n",
              "1            394.945652       2835.652174  19393.239130         111.217391"
            ]
          },
          "metadata": {
            "tags": []
          },
          "execution_count": 47
        }
      ]
    },
    {
      "metadata": {
        "id": "Dd4nVmFtaJEx",
        "colab_type": "code",
        "colab": {
          "base_uri": "https://localhost:8080/",
          "height": 142
        },
        "outputId": "cc743633-c7ec-4a4c-84b8-7a8e2d6723ad"
      },
      "cell_type": "code",
      "source": [
        "df_thin.groupby(['is_liked']).max()"
      ],
      "execution_count": 48,
      "outputs": [
        {
          "output_type": "execute_result",
          "data": {
            "text/html": [
              "<div>\n",
              "<style scoped>\n",
              "    .dataframe tbody tr th:only-of-type {\n",
              "        vertical-align: middle;\n",
              "    }\n",
              "\n",
              "    .dataframe tbody tr th {\n",
              "        vertical-align: top;\n",
              "    }\n",
              "\n",
              "    .dataframe thead th {\n",
              "        text-align: right;\n",
              "    }\n",
              "</style>\n",
              "<table border=\"1\" class=\"dataframe\">\n",
              "  <thead>\n",
              "    <tr style=\"text-align: right;\">\n",
              "      <th></th>\n",
              "      <th>stand_by_time</th>\n",
              "      <th>battery_capacity</th>\n",
              "      <th>price</th>\n",
              "      <th>expandable_memory</th>\n",
              "    </tr>\n",
              "    <tr>\n",
              "      <th>is_liked</th>\n",
              "      <th></th>\n",
              "      <th></th>\n",
              "      <th></th>\n",
              "      <th></th>\n",
              "    </tr>\n",
              "  </thead>\n",
              "  <tbody>\n",
              "    <tr>\n",
              "      <th>0</th>\n",
              "      <td>840</td>\n",
              "      <td>4100</td>\n",
              "      <td>37766</td>\n",
              "      <td>256.0</td>\n",
              "    </tr>\n",
              "    <tr>\n",
              "      <th>1</th>\n",
              "      <td>1093</td>\n",
              "      <td>5000</td>\n",
              "      <td>64500</td>\n",
              "      <td>2048.0</td>\n",
              "    </tr>\n",
              "  </tbody>\n",
              "</table>\n",
              "</div>"
            ],
            "text/plain": [
              "          stand_by_time  battery_capacity  price  expandable_memory\n",
              "is_liked                                                           \n",
              "0                   840              4100  37766              256.0\n",
              "1                  1093              5000  64500             2048.0"
            ]
          },
          "metadata": {
            "tags": []
          },
          "execution_count": 48
        }
      ]
    },
    {
      "metadata": {
        "id": "9LvXY9n4aU-c",
        "colab_type": "code",
        "colab": {
          "base_uri": "https://localhost:8080/",
          "height": 222
        },
        "outputId": "911cae28-334e-471a-8ab3-87f5d24d9f95"
      },
      "cell_type": "code",
      "source": [
        "df_thin.groupby(['is_liked']).describe()"
      ],
      "execution_count": 50,
      "outputs": [
        {
          "output_type": "execute_result",
          "data": {
            "text/html": [
              "<div>\n",
              "<style scoped>\n",
              "    .dataframe tbody tr th:only-of-type {\n",
              "        vertical-align: middle;\n",
              "    }\n",
              "\n",
              "    .dataframe tbody tr th {\n",
              "        vertical-align: top;\n",
              "    }\n",
              "\n",
              "    .dataframe thead tr th {\n",
              "        text-align: left;\n",
              "    }\n",
              "\n",
              "    .dataframe thead tr:last-of-type th {\n",
              "        text-align: right;\n",
              "    }\n",
              "</style>\n",
              "<table border=\"1\" class=\"dataframe\">\n",
              "  <thead>\n",
              "    <tr>\n",
              "      <th></th>\n",
              "      <th colspan=\"8\" halign=\"left\">battery_capacity</th>\n",
              "      <th colspan=\"2\" halign=\"left\">expandable_memory</th>\n",
              "      <th>...</th>\n",
              "      <th colspan=\"2\" halign=\"left\">price</th>\n",
              "      <th colspan=\"8\" halign=\"left\">stand_by_time</th>\n",
              "    </tr>\n",
              "    <tr>\n",
              "      <th></th>\n",
              "      <th>count</th>\n",
              "      <th>mean</th>\n",
              "      <th>std</th>\n",
              "      <th>min</th>\n",
              "      <th>25%</th>\n",
              "      <th>50%</th>\n",
              "      <th>75%</th>\n",
              "      <th>max</th>\n",
              "      <th>count</th>\n",
              "      <th>mean</th>\n",
              "      <th>...</th>\n",
              "      <th>75%</th>\n",
              "      <th>max</th>\n",
              "      <th>count</th>\n",
              "      <th>mean</th>\n",
              "      <th>std</th>\n",
              "      <th>min</th>\n",
              "      <th>25%</th>\n",
              "      <th>50%</th>\n",
              "      <th>75%</th>\n",
              "      <th>max</th>\n",
              "    </tr>\n",
              "    <tr>\n",
              "      <th>is_liked</th>\n",
              "      <th></th>\n",
              "      <th></th>\n",
              "      <th></th>\n",
              "      <th></th>\n",
              "      <th></th>\n",
              "      <th></th>\n",
              "      <th></th>\n",
              "      <th></th>\n",
              "      <th></th>\n",
              "      <th></th>\n",
              "      <th></th>\n",
              "      <th></th>\n",
              "      <th></th>\n",
              "      <th></th>\n",
              "      <th></th>\n",
              "      <th></th>\n",
              "      <th></th>\n",
              "      <th></th>\n",
              "      <th></th>\n",
              "      <th></th>\n",
              "      <th></th>\n",
              "    </tr>\n",
              "  </thead>\n",
              "  <tbody>\n",
              "    <tr>\n",
              "      <th>0</th>\n",
              "      <td>17.0</td>\n",
              "      <td>2874.941176</td>\n",
              "      <td>591.777035</td>\n",
              "      <td>1624.0</td>\n",
              "      <td>2600.0</td>\n",
              "      <td>2900.0</td>\n",
              "      <td>3000.0</td>\n",
              "      <td>4100.0</td>\n",
              "      <td>17.0</td>\n",
              "      <td>68.235294</td>\n",
              "      <td>...</td>\n",
              "      <td>25500.00</td>\n",
              "      <td>37766.0</td>\n",
              "      <td>17.0</td>\n",
              "      <td>457.235294</td>\n",
              "      <td>157.094927</td>\n",
              "      <td>240.0</td>\n",
              "      <td>345.00</td>\n",
              "      <td>400.0</td>\n",
              "      <td>580.0</td>\n",
              "      <td>840.0</td>\n",
              "    </tr>\n",
              "    <tr>\n",
              "      <th>1</th>\n",
              "      <td>92.0</td>\n",
              "      <td>2835.652174</td>\n",
              "      <td>668.850998</td>\n",
              "      <td>1560.0</td>\n",
              "      <td>2457.5</td>\n",
              "      <td>2900.0</td>\n",
              "      <td>3100.0</td>\n",
              "      <td>5000.0</td>\n",
              "      <td>92.0</td>\n",
              "      <td>111.217391</td>\n",
              "      <td>...</td>\n",
              "      <td>24924.75</td>\n",
              "      <td>64500.0</td>\n",
              "      <td>92.0</td>\n",
              "      <td>394.945652</td>\n",
              "      <td>178.876246</td>\n",
              "      <td>160.0</td>\n",
              "      <td>258.25</td>\n",
              "      <td>354.0</td>\n",
              "      <td>482.0</td>\n",
              "      <td>1093.0</td>\n",
              "    </tr>\n",
              "  </tbody>\n",
              "</table>\n",
              "<p>2 rows × 32 columns</p>\n",
              "</div>"
            ],
            "text/plain": [
              "         battery_capacity                                                   \\\n",
              "                    count         mean         std     min     25%     50%   \n",
              "is_liked                                                                     \n",
              "0                    17.0  2874.941176  591.777035  1624.0  2600.0  2900.0   \n",
              "1                    92.0  2835.652174  668.850998  1560.0  2457.5  2900.0   \n",
              "\n",
              "                         expandable_memory               ...       price  \\\n",
              "             75%     max             count        mean   ...         75%   \n",
              "is_liked                                                 ...               \n",
              "0         3000.0  4100.0              17.0   68.235294   ...    25500.00   \n",
              "1         3100.0  5000.0              92.0  111.217391   ...    24924.75   \n",
              "\n",
              "                  stand_by_time                                                \\\n",
              "              max         count        mean         std    min     25%    50%   \n",
              "is_liked                                                                        \n",
              "0         37766.0          17.0  457.235294  157.094927  240.0  345.00  400.0   \n",
              "1         64500.0          92.0  394.945652  178.876246  160.0  258.25  354.0   \n",
              "\n",
              "                         \n",
              "            75%     max  \n",
              "is_liked                 \n",
              "0         580.0   840.0  \n",
              "1         482.0  1093.0  \n",
              "\n",
              "[2 rows x 32 columns]"
            ]
          },
          "metadata": {
            "tags": []
          },
          "execution_count": 50
        }
      ]
    },
    {
      "metadata": {
        "id": "CvL1m361aY09",
        "colab_type": "code",
        "colab": {}
      },
      "cell_type": "code",
      "source": [
        "import matplotlib.pyplot as plt\n",
        "import seaborn as sns\n",
        "sns.set()"
      ],
      "execution_count": 0,
      "outputs": []
    },
    {
      "metadata": {
        "id": "8tYmLQ7jak8s",
        "colab_type": "code",
        "colab": {
          "base_uri": "https://localhost:8080/",
          "height": 901
        },
        "outputId": "1fc9b322-fde5-4167-84a3-9a2e9e083b34"
      },
      "cell_type": "code",
      "source": [
        "ax=sns.pairplot(df_thin,diag_kind='hist')"
      ],
      "execution_count": 52,
      "outputs": [
        {
          "output_type": "display_data",
          "data": {
            "image/png": "[encoded data removed]",
            "text/plain": [
              "<Figure size 900x900 with 30 Axes>"
            ]
          },
          "metadata": {
            "tags": []
          }
        }
      ]
    },
    {
      "metadata": {
        "id": "gEIlTnmyay8u",
        "colab_type": "code",
        "colab": {}
      },
      "cell_type": "code",
      "source": [
        ""
      ],
      "execution_count": 0,
      "outputs": []
    }
  ]
}